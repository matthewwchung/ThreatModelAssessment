{
  "nbformat": 4,
  "nbformat_minor": 0,
  "metadata": {
    "colab": {
      "private_outputs": true,
      "provenance": [],
      "collapsed_sections": [
        "F6zbsuNs6xZF",
        "YN5T_UgVoqVD"
      ],
      "include_colab_link": true
    },
    "kernelspec": {
      "name": "python3",
      "display_name": "Python 3"
    },
    "language_info": {
      "name": "python"
    },
    "gpuClass": "standard"
  },
  "cells": [
    {
      "cell_type": "markdown",
      "metadata": {
        "id": "view-in-github",
        "colab_type": "text"
      },
      "source": [
        "<a href=\"https://colab.research.google.com/github/matthewwchung/ThreatModelAssessment/blob/main/4_Steps_RVC_(rejekts).ipynb\" target=\"_parent\"><img src=\"https://colab.research.google.com/assets/colab-badge.svg\" alt=\"Open In Colab\"/></a>"
      ]
    },
    {
      "cell_type": "code",
      "source": [
        "#@markdown #Play tutorial? SKIP this if you don't need one.\n",
        "%%html\n",
        "<iframe width=\"560\" height=\"315\" src=\"https://www.youtube.com/embed/Ruo3hWk7P5Q\" title=\"YouTube video player\" frameborder=\"0\" allow=\"accelerometer; autoplay; clipboard-write; encrypted-media; gyroscope; picture-in-picture; web-share\" allowfullscreen></iframe>"
      ],
      "metadata": {
        "cellView": "form",
        "id": "iE5iZorcqngi"
      },
      "execution_count": null,
      "outputs": []
    },
    {
      "cell_type": "markdown",
      "source": [
        "#Step 1. Install everything and connect your Drive (Click here for the first time)."
      ],
      "metadata": {
        "id": "F6zbsuNs6xZF"
      }
    },
    {
      "cell_type": "markdown",
      "source": [
        "[![Open In Colab](https://colab.research.google.com/assets/colab-badge.svg)](https://colab.research.google.com/github/liujing04/Retrieval-based-Voice-Conversion-WebUI/blob/main/Retrieval_based_Voice_Conversion_WebUI.ipynb)\n",
        "If you want to open the ORIGINAL Colab go here!"
      ],
      "metadata": {
        "id": "ZFFCx5J80SGa"
      }
    },
    {
      "cell_type": "code",
      "execution_count": null,
      "metadata": {
        "id": "GmFP6bN9dvOq",
        "cellView": "form"
      },
      "outputs": [],
      "source": [
        "#@title GPU Check\n",
        "!nvidia-smi"
      ]
    },
    {
      "cell_type": "code",
      "source": [
        "#@title Install Dependencies\n",
        "!apt-get -y install build-essential python3-dev ffmpeg\n",
        "!pip3 install --upgrade setuptools wheel\n",
        "!pip3 install --upgrade pip\n",
        "!pip3 install faiss-gpu fairseq gradio ffmpeg ffmpeg-python praat-parselmouth pyworld numpy==1.23.5 numba==0.56.4 librosa==0.9.2\n",
        "!apt -y install -qq aria2\n",
        "!pip install mega.py --quiet\n",
        "!pip install gdown --quiet"
      ],
      "metadata": {
        "id": "wjddIFr1oS3W",
        "cellView": "form"
      },
      "execution_count": null,
      "outputs": []
    },
    {
      "cell_type": "code",
      "source": [
        "#@title Clone Github Repository\n",
        "\n",
        "!git clone https://github.com/Estil1/Retrieval-based-Voice-Conversion-WebUI\n",
        "%cd /content/Retrieval-based-Voice-Conversion-WebUI\n",
        "!mkdir -p pretrained uvr5_weights\n",
        "!git pull"
      ],
      "metadata": {
        "id": "ge_97mfpgqTm",
        "cellView": "form"
      },
      "execution_count": null,
      "outputs": []
    },
    {
      "cell_type": "code",
      "source": [
        "#@title Download the Base Model\n",
        "!aria2c --console-log-level=error -c -x 16 -s 16 -k 1M https://huggingface.co/lj1995/VoiceConversionWebUI/resolve/main/pretrained/D32k.pth -d /content/Retrieval-based-Voice-Conversion-WebUI/pretrained -o D32k.pth\n",
        "!aria2c --console-log-level=error -c -x 16 -s 16 -k 1M https://huggingface.co/lj1995/VoiceConversionWebUI/resolve/main/pretrained/D40k.pth -d /content/Retrieval-based-Voice-Conversion-WebUI/pretrained -o D40k.pth\n",
        "!aria2c --console-log-level=error -c -x 16 -s 16 -k 1M https://huggingface.co/lj1995/VoiceConversionWebUI/resolve/main/pretrained/D48k.pth -d /content/Retrieval-based-Voice-Conversion-WebUI/pretrained -o D48k.pth\n",
        "!aria2c --console-log-level=error -c -x 16 -s 16 -k 1M https://huggingface.co/lj1995/VoiceConversionWebUI/resolve/main/pretrained/G32k.pth -d /content/Retrieval-based-Voice-Conversion-WebUI/pretrained -o G32k.pth\n",
        "!aria2c --console-log-level=error -c -x 16 -s 16 -k 1M https://huggingface.co/lj1995/VoiceConversionWebUI/resolve/main/pretrained/G40k.pth -d /content/Retrieval-based-Voice-Conversion-WebUI/pretrained -o G40k.pth\n",
        "!aria2c --console-log-level=error -c -x 16 -s 16 -k 1M https://huggingface.co/lj1995/VoiceConversionWebUI/resolve/main/pretrained/G48k.pth -d /content/Retrieval-based-Voice-Conversion-WebUI/pretrained -o G48k.pth\n",
        "!aria2c --console-log-level=error -c -x 16 -s 16 -k 1M https://huggingface.co/lj1995/VoiceConversionWebUI/resolve/main/pretrained/f0D32k.pth -d /content/Retrieval-based-Voice-Conversion-WebUI/pretrained -o f0D32k.pth\n",
        "!aria2c --console-log-level=error -c -x 16 -s 16 -k 1M https://huggingface.co/lj1995/VoiceConversionWebUI/resolve/main/pretrained/f0D40k.pth -d /content/Retrieval-based-Voice-Conversion-WebUI/pretrained -o f0D40k.pth\n",
        "!aria2c --console-log-level=error -c -x 16 -s 16 -k 1M https://huggingface.co/lj1995/VoiceConversionWebUI/resolve/main/pretrained/f0D48k.pth -d /content/Retrieval-based-Voice-Conversion-WebUI/pretrained -o f0D48k.pth\n",
        "!aria2c --console-log-level=error -c -x 16 -s 16 -k 1M https://huggingface.co/lj1995/VoiceConversionWebUI/resolve/main/pretrained/f0G32k.pth -d /content/Retrieval-based-Voice-Conversion-WebUI/pretrained -o f0G32k.pth\n",
        "!aria2c --console-log-level=error -c -x 16 -s 16 -k 1M https://huggingface.co/lj1995/VoiceConversionWebUI/resolve/main/pretrained/f0G40k.pth -d /content/Retrieval-based-Voice-Conversion-WebUI/pretrained -o f0G40k.pth\n",
        "!aria2c --console-log-level=error -c -x 16 -s 16 -k 1M https://huggingface.co/lj1995/VoiceConversionWebUI/resolve/main/pretrained/f0G48k.pth -d /content/Retrieval-based-Voice-Conversion-WebUI/pretrained -o f0G48k.pth\n",
        "\n",
        "!aria2c --console-log-level=error -c -x 16 -s 16 -k 1M https://huggingface.co/lj1995/VoiceConversionWebUI/resolve/main/uvr5_weights/HP2-人声vocals+非人声instrumentals.pth -d /content/Retrieval-based-Voice-Conversion-WebUI/uvr5_weights -o HP2-人声vocals+非人声instrumentals.pth\n",
        "!aria2c --console-log-level=error -c -x 16 -s 16 -k 1M https://huggingface.co/lj1995/VoiceConversionWebUI/resolve/main/uvr5_weights/HP5-主旋律人声vocals+其他instrumentals.pth -d /content/Retrieval-based-Voice-Conversion-WebUI/uvr5_weights -o HP5-主旋律人声vocals+其他instrumentals.pth\n",
        "\n",
        "!aria2c --console-log-level=error -c -x 16 -s 16 -k 1M https://huggingface.co/lj1995/VoiceConversionWebUI/resolve/main/hubert_base.pt -d /content/Retrieval-based-Voice-Conversion-WebUI -o hubert_base.pt"
      ],
      "metadata": {
        "id": "UG3XpUwEomUz",
        "cellView": "form"
      },
      "execution_count": null,
      "outputs": []
    },
    {
      "cell_type": "code",
      "source": [
        "#@markdown This will also create an RVC and dataset folders in your drive if they don't already exist.\n",
        "from google.colab import drive\n",
        "drive.mount('/content/drive', force_remount=True)\n",
        "!mkdir -p /content/drive/MyDrive/RVC\n",
        "!mkdir -p /content/drive/MyDrive/dataset\n",
        "!mkdir -p /content/EasyDataset"
      ],
      "metadata": {
        "id": "jwu07JgqoFON",
        "cellView": "form"
      },
      "execution_count": null,
      "outputs": []
    },
    {
      "cell_type": "markdown",
      "source": [
        "#Step 2. Choose what you want to do. \n",
        "##Do you want to load a MODEL and run it or make a new one with a DATASET?"
      ],
      "metadata": {
        "id": "XAuGUlHDB4cx"
      }
    },
    {
      "cell_type": "code",
      "source": [
        "#@markdown ##Click this to load a MODEL.\n",
        "\n",
        "#@markdown Name of the model:\n",
        "MODELNAME = \"jungkook\"  #@param {type:\"string\"}\n",
        "#@markdown Write the number for the steps:\n",
        "MODELEPOCH = 2333333  #@param {type:\"integer\"}\n",
        "\n",
        "!mkdir -p /content/Retrieval-based-Voice-Conversion-WebUI/logs/{MODELNAME}\n",
        "!mkdir -p /content/unzips/{MODELNAME}\n",
        "!unzip -d /content/unzips/ -B /content/drive/MyDrive/RVC/{MODELNAME}.zip\n",
        "!mv /content/unzips/{MODELNAME}/{MODELNAME}_D_{MODELEPOCH}.pth /content/Retrieval-based-Voice-Conversion-WebUI/logs/{MODELNAME}/G_{MODELEPOCH}.pth\n",
        "!mv /content/unzips/{MODELNAME}/{MODELNAME}_G_{MODELEPOCH}.pth /content/Retrieval-based-Voice-Conversion-WebUI/logs/{MODELNAME}/D_{MODELEPOCH}.pth\n",
        "!mv /content/unzips/{MODELNAME}/*.index /content/Retrieval-based-Voice-Conversion-WebUI/logs/{MODELNAME}/\n",
        "!mv /content/unzips/{MODELNAME}/*.npy /content/Retrieval-based-Voice-Conversion-WebUI/logs/{MODELNAME}/\n",
        "!mv /content/unzips/{MODELNAME}/{MODELNAME}{MODELEPOCH}.pth /content/Retrieval-based-Voice-Conversion-WebUI/weights/{MODELNAME}.pth\n",
        "!rm -r /content/unzips/{MODELNAME}/"
      ],
      "metadata": {
        "id": "OVQoLQJXS7WX",
        "cellView": "form"
      },
      "execution_count": null,
      "outputs": []
    },
    {
      "cell_type": "code",
      "source": [
        "#@markdown ##Click this to load a DATASET instead.\n",
        "DATASET = \"/content/drive/MyDrive/dataset/yoursinger.zip\"  #@param {type:\"string\"}\n",
        "\n",
        "!mkdir -p /content/dataset\n",
        "!unzip -d /content/dataset -B {DATASET}\n",
        "!ls -a /content/dataset/\n",
        "!rename 's/(\\w+)\\.(\\w+)~(\\d*)/$1_$3.$2/' /content/dataset/*.*~*"
      ],
      "metadata": {
        "id": "Mwk7Q0Loqzjx",
        "cellView": "form"
      },
      "execution_count": null,
      "outputs": []
    },
    {
      "cell_type": "markdown",
      "source": [
        "#Step 3. Run the GUI by tapping on the public URL. It's gonna look like this:\n",
        "![alt text](https://drive.google.com/uc?id=1YpraB1Fc8B24TCtdzOo_AmzMMGoZXZ2e)"
      ],
      "metadata": {
        "id": "dGDewjhS7wXS"
      }
    },
    {
      "cell_type": "code",
      "source": [
        "#@markdown #Click here to run the GUI\n",
        "%cd /content/Retrieval-based-Voice-Conversion-WebUI\n",
        "# %load_ext tensorboard\n",
        "# %tensorboard --logdir /content/Retrieval-based-Voice-Conversion-WebUI/logs\n",
        "!python3 infer-web.py --colab --pycmd python3"
      ],
      "metadata": {
        "id": "7vh6vphDwO0b",
        "cellView": "form"
      },
      "execution_count": null,
      "outputs": []
    },
    {
      "cell_type": "markdown",
      "source": [
        "# Step 4. If you made a new model, choose ONE save method from below."
      ],
      "metadata": {
        "id": "TNd_AYmtodr4"
      }
    },
    {
      "cell_type": "code",
      "source": [
        "#@markdown ##Save small file (inference only)\n",
        "#@markdown Write the name of the model and the steps. You can find that in the log for your model.\n",
        "%cd /content\n",
        "import shutil, os\n",
        "MODELNAME = \"\"  #@param {type:\"string\"}\n",
        "MODELEPOCH = 2333333  #@param {type:\"integer\"}\n",
        "\n",
        "if os.path.exists('/content/zips'):\n",
        "  shutil.rmtree('/content/zips')\n",
        "print('Removed zips.')\n",
        "!mkdir -p /content/zips/{MODELNAME}/\n",
        "print('Created zips.')\n",
        "\n",
        "!cp /content/Retrieval-based-Voice-Conversion-WebUI/logs/{MODELNAME}/added_*.index /content/zips/{MODELNAME}/\n",
        "!cp /content/Retrieval-based-Voice-Conversion-WebUI/logs/{MODELNAME}/total_*.npy /content/zips/{MODELNAME}/\n",
        "!cp /content/Retrieval-based-Voice-Conversion-WebUI/weights/{MODELNAME}.pth /content/zips/{MODELNAME}/{MODELNAME}{MODELEPOCH}.pth\n",
        "\n",
        "\n",
        "\n",
        "!mkdir -p /content/drive/MyDrive/RVC/\n",
        "\n",
        "%cd /content/zips\n",
        "!zip -r {MODELNAME}.zip {MODELNAME}\n",
        "shutil.move(f'/content/zips/{MODELNAME}.zip',f'/content/drive/MyDrive/RVC/{MODELNAME}.zip')\n",
        "%cd /content"
      ],
      "metadata": {
        "cellView": "form",
        "id": "POuTKzt8gZmF"
      },
      "execution_count": null,
      "outputs": []
    },
    {
      "cell_type": "code",
      "source": [
        "#@markdown ##Save big file (with files needed for further training)\n",
        "#@markdown Write the name of the model and the steps. You can find that in the log for your model.\n",
        "%cd /content\n",
        "import shutil, os\n",
        "MODELNAME = \"\"  #@param {type:\"string\"}\n",
        "MODELEPOCH = 2333333  #@param {type:\"integer\"}\n",
        "\n",
        "if os.path.exists('/content/zips'):\n",
        "  shutil.rmtree('/content/zips')\n",
        "print('Removed zips.')\n",
        "!mkdir -p /content/zips/{MODELNAME}/\n",
        "print('Created zips.')\n",
        "\n",
        "!cp /content/Retrieval-based-Voice-Conversion-WebUI/logs/{MODELNAME}/added_*.index /content/zips/{MODELNAME}/\n",
        "!cp /content/Retrieval-based-Voice-Conversion-WebUI/logs/{MODELNAME}/total_*.npy /content/zips/{MODELNAME}/\n",
        "!cp /content/Retrieval-based-Voice-Conversion-WebUI/weights/{MODELNAME}.pth /content/zips/{MODELNAME}/{MODELNAME}{MODELEPOCH}.pth\n",
        "!cp /content/Retrieval-based-Voice-Conversion-WebUI/logs/{MODELNAME}/G_{MODELEPOCH}.pth /content/zips/{MODELNAME}/{MODELNAME}_D_{MODELEPOCH}.pth\n",
        "!cp /content/Retrieval-based-Voice-Conversion-WebUI/logs/{MODELNAME}/D_{MODELEPOCH}.pth /content/zips/{MODELNAME}/{MODELNAME}_G_{MODELEPOCH}.pth\n",
        "\n",
        "\n",
        "!mkdir -p /content/drive/MyDrive/RVC/\n",
        "\n",
        "%cd /content/zips\n",
        "!zip -r {MODELNAME}.zip {MODELNAME}\n",
        "shutil.move(f'/content/zips/{MODELNAME}.zip',f'/content/drive/MyDrive/RVC/{MODELNAME}.zip')\n",
        "%cd /content"
      ],
      "metadata": {
        "id": "FgJuNeAwx5Y_",
        "cellView": "form"
      },
      "execution_count": null,
      "outputs": []
    },
    {
      "cell_type": "markdown",
      "source": [
        "#Extra Stuff (These are tools to make your job easier)"
      ],
      "metadata": {
        "id": "p9SHghdUw2O_"
      }
    },
    {
      "cell_type": "code",
      "source": [
        "#@title Easy Dataset Maker\n",
        "#@markdown Just upload the .wav acapellas you want into the **EasyDataset** folder (make sure it is good quality stuff, please)\n",
        "#@markdown Do not use spaces, weird symbols, or anything like that.\n",
        "if not \"pydub_installed\" in locals():\n",
        "  !pip install pydub --quiet\n",
        "  pydub_installed=True\n",
        "\n",
        "from pydub import AudioSegment\n",
        "import os, shutil, wave\n",
        "from google.colab import files\n",
        "auto_delete_original_acapella=False#@param {type:\"boolean\"}\n",
        "\n",
        "save_to_drive=False#@param {type:\"boolean\"}\n",
        "#@markdown Choose a name for your dataset (you will use this later in the GUI)\n",
        "dataset_name='simpledataset'#@param {type:\"string\"}\n",
        "if not \"installed_pydub\" in locals():\n",
        "  !pip install pydub --quiet\n",
        "\n",
        "if not os.path.exists('/content/EasyDataset'):\n",
        "  !mkdir -p /content/EasyDataset\n",
        "  os.chdir('/content/EasyDataset')\n",
        "  print(\"Upload some files.\")\n",
        "  uploaded = files.upload()\n",
        "else:\n",
        "  os.chdir('/content/EasyDataset')\n",
        "  if not os.listdir():\n",
        "    print(\"Upload some files.\")\n",
        "    uploaded = files.upload()\n",
        "\n",
        "for filename in os.listdir():\n",
        "    if filename.endswith(\".wav\"):\n",
        "        sound = AudioSegment.from_wav(filename)\n",
        "        sound = sound.set_channels(1)\n",
        "        new_filename = filename\n",
        "        sound.export('mono_'+new_filename, format=\"wav\")\n",
        "        os.remove(filename)\n",
        "\n",
        "# define the length of each clip in seconds\n",
        "clip_length = 10\n",
        "# iterate over all .wav files in the current directory\n",
        "for filename in os.listdir():\n",
        "    if not filename.endswith('.wav'):\n",
        "        continue\n",
        "    # open the WAV file and get the sample rate\n",
        "    wav_file = wave.open(filename, 'rb')\n",
        "    sample_rate = wav_file.getframerate()\n",
        "    # calculate the number of frames in each clip\n",
        "    clip_frames = clip_length * sample_rate\n",
        "    # iterate over each clip and write it to a new file\n",
        "    for i in range(int(wav_file.getnframes() / clip_frames) + 1):\n",
        "        clip_name = f\"{filename.split('.')[0]}_{i+1}.wav\"\n",
        "        clip_path = 'split_'+clip_name\n",
        "        clip_start = i * clip_frames\n",
        "        clip_end = min((i+1) * clip_frames, wav_file.getnframes())\n",
        "\n",
        "        # write the clip to a new file\n",
        "        with wave.open(clip_path, 'wb') as clip_file:\n",
        "            clip_file.setparams(wav_file.getparams())\n",
        "            clip_file.writeframes(wav_file.readframes(clip_end - clip_start))\n",
        "    # close the original file\n",
        "    wav_file.close()\n",
        "    os.remove(filename)\n",
        "!mkdir -p /content/dataset/{dataset_name}\n",
        "for everything in os.listdir('/content/EasyDataset'):\n",
        "  shutil.move(everything, f'/content/dataset/{dataset_name}')\n",
        "!ls -a /content/dataset/\n",
        "!rename 's/(\\w+)\\.(\\w+)~(\\d*)/$1_$3.$2/' /content/dataset/*.*~*\n",
        "os.chdir(f'/content/dataset')\n",
        "print(f\"Your dataset has been saved to: /content/dataset/{dataset_name}\")\n",
        "if auto_delete_original_acapella:\n",
        "  shutil.rmtree('/content/EasyDataset')\n",
        "  !mkdir -p /content/EasyDataset\n",
        "if save_to_drive:\n",
        "  !zip -r {dataset_name}.zip {dataset_name}\n",
        "  shutil.move(f'/content/dataset/{dataset_name}.zip','/content/drive/MyDrive/dataset')\n",
        "os.chdir('/content')"
      ],
      "metadata": {
        "cellView": "form",
        "id": "dF8MCnjxldPC"
      },
      "execution_count": null,
      "outputs": []
    },
    {
      "cell_type": "code",
      "source": [
        "from google.colab import drive\n",
        "drive.mount('/content/drive')"
      ],
      "metadata": {
        "id": "HPm1Xqmnz6i6"
      },
      "execution_count": null,
      "outputs": []
    },
    {
      "cell_type": "code",
      "source": [
        "#@title Download a model from MEGA to your RVC folder\n",
        "from mega import Mega\n",
        "import os\n",
        "m = Mega()\n",
        "mega_link=''#@param {type:\"string\"}\n",
        "m.download_url(mega_link, '/content/drive/MyDrive/RVC')"
      ],
      "metadata": {
        "cellView": "form",
        "id": "F53nQPnEzFhw"
      },
      "execution_count": null,
      "outputs": []
    },
    {
      "cell_type": "code",
      "source": [
        "#@title Download a model from Google Drive to your RVC folder\n",
        "google_drive_url='https://drive.google.com/file/d/1i5CMlcnKfVEpzD5wvwjWytrwT2fT74g6/view?usp=share_link'#@param {type:\"string\"}\n",
        "MODELNAME='jungkook.zip'#@param {type:\"string\"}\n",
        "modelname_path='/content/drive/MyDrive/RVC/'+MODELNAME\n",
        "!gdown $google_drive_url --fuzzy -O $modelname_path"
      ],
      "metadata": {
        "cellView": "form",
        "id": "a7JYWj3l6UEb"
      },
      "execution_count": null,
      "outputs": []
    },
    {
      "cell_type": "markdown",
      "source": [
        "# Common questions and their answers:"
      ],
      "metadata": {
        "id": "YN5T_UgVoqVD"
      }
    },
    {
      "cell_type": "markdown",
      "source": [
        "### If you want to know how to use the GUI, read my guide at the end of the document.\n",
        "\n",
        "* What is a model?\n",
        "\n",
        "It is a zip file that contains a folder with files to use someone's voice.\n",
        "\n",
        "* How do I create a new model?\n",
        "\n",
        "Put your dataset in a folder called \"dataset\" on your Google Drive and follow the steps here. Don't forget to save your model. You need to have a folder called \"RVC\" on your Google Drive. The models should be there.\n",
        "\n",
        "* What is a dataset?\n",
        "\n",
        "It is just a zip file that contains a folder with audio files. If you want to create your own, you need someone's voice without music that sounds good and without echo or multiple voices at the same time. And you need to cut the audio into 10-second clips because if they are longer than 10 seconds, you will have errors.\n",
        "\n",
        "* How do I use a voice that I downloaded or saved before?\n",
        "\n",
        "If you downloaded a model, put your model in a folder called \"RVC\" on your Google Drive and follow the steps here. If you are going to use a model that you saved before, follow the steps here.\n"
      ],
      "metadata": {
        "id": "gAslW2j8qoqi"
      }
    },
    {
      "cell_type": "markdown",
      "source": [
        "##How to use a model with the GUI?\n",
        "##Run Step 1, 2b and 3.\n",
        "When you are done, run the GUI with the Public URL:\n",
        "\n",
        "![alt text](https://drive.google.com/uc?id=1YpraB1Fc8B24TCtdzOo_AmzMMGoZXZ2e)\n",
        "\n",
        "* Choose the model you loaded.\n",
        "\n",
        "![alt text](https://drive.google.com/uc?id=1pf2giQ1r-Bw996GSCfOkv3VWyLXxMmXL)\n",
        "* Type in the path to the audio you want to convert.\n",
        "\n",
        "![alt text](https://drive.google.com/uc?id=1mlh5CDcG8UFUHODgVLn0bthP8R5z5XAO)\n",
        "* Find the path to the files for the model.\n",
        "\n",
        "![alt text](https://drive.google.com/uc?id=1J9Un7QIOb03halUg7_2-GQ6GJ27ulJDO)\n",
        "\n",
        "* Type in the path of the files and the strength setting you want.\n",
        "\n",
        "![alt text](https://drive.google.com/uc?id=1MqhFJAU1k3xRxrrx8vvAtEbmIQ2ABvEa)\n",
        "\n",
        "* Press this big button.\n",
        "\n",
        "![alt text](https://drive.google.com/uc?id=1wDHN6RO9xCfAf02rXqOW8XC1YmUB4SZ1)\n"
      ],
      "metadata": {
        "id": "5sNsefYxSnF_"
      }
    },
    {
      "cell_type": "markdown",
      "source": [
        "##How do I make a new model?\n",
        "##Run steps 1, 2A, and 3.\n",
        "When you are done, open the Public URL:\n",
        "\n",
        "![alt text](https://drive.google.com/uc?id=1YpraB1Fc8B24TCtdzOo_AmzMMGoZXZ2e)\n",
        "\n",
        "* In the GUI you need to go to the Train tab.\n",
        "\n",
        "![alt text](https://drive.google.com/uc?id=1emCK8PwR_r3_E9cwoKTwIrvsz4pSQWko)\n",
        "\n",
        "* Choose a name for your model. Do not use spaces or weird symbols.\n",
        "\n",
        "![alt text](https://drive.google.com/uc?id=1Zg19lh9pxNv1NYgjeMH_GW7c_gmPN4LA)\n",
        "\n",
        "* Write the path to your dataset. If you don't have a dataset, use the Easy Dataset Maker above.\n",
        "\n",
        "![alt text](https://drive.google.com/uc?id=1681ZWbtl1FnFVdL8Fr1NenpOi7Ofj6eA)\n",
        "\n",
        "* Choose your training settings, or choose these:\n",
        "\n",
        "![alt text](https://drive.google.com/uc?id=1cX6Ltr2JliBlGNG_hM8GdcUlUvpcvSjN)\n",
        "\n",
        "* And hit One Click Training to Start! Now you just have to wait until it's done. \n",
        "\n",
        "![alt text](https://drive.google.com/uc?id=14gyCAj2v444qxauD1QodUIpllFtilIkz)\n"
      ],
      "metadata": {
        "id": "kRGVkLLR63Fn"
      }
    }
  ]
}